{
  "nbformat": 4,
  "nbformat_minor": 0,
  "metadata": {
    "colab": {
      "provenance": [],
      "authorship_tag": "ABX9TyNgLuuEXfe1yfkXrJoV0CfT",
      "include_colab_link": true
    },
    "kernelspec": {
      "name": "python3",
      "display_name": "Python 3"
    },
    "language_info": {
      "name": "python"
    }
  },
  "cells": [
    {
      "cell_type": "markdown",
      "metadata": {
        "id": "view-in-github",
        "colab_type": "text"
      },
      "source": [
        "<a href=\"https://colab.research.google.com/github/HoPhuocMinhQuan20104052/HoPhuocMinhQuan/blob/main/Accuracy.ipynb\" target=\"_parent\"><img src=\"https://colab.research.google.com/assets/colab-badge.svg\" alt=\"Open In Colab\"/></a>"
      ]
    },
    {
      "cell_type": "code",
      "execution_count": 2,
      "metadata": {
        "colab": {
          "base_uri": "https://localhost:8080/"
        },
        "id": "92jj2JCRDo-Y",
        "outputId": "a9a397e9-9fd2-440b-d360-393d71642262"
      },
      "outputs": [
        {
          "output_type": "stream",
          "name": "stdout",
          "text": [
            "độ chính xác 0.5\n",
            "['1' '1' '1' '1']\n"
          ]
        },
        {
          "output_type": "stream",
          "name": "stderr",
          "text": [
            "/usr/local/lib/python3.7/dist-packages/sklearn/base.py:451: UserWarning: X does not have valid feature names, but Perceptron was fitted with feature names\n",
            "  \"X does not have valid feature names, but\"\n"
          ]
        }
      ],
      "source": [
        "import numpy as np\n",
        "from sklearn.linear_model import Perceptron\n",
        "from sklearn.model_selection import train_test_split\n",
        "import pandas as pd\n",
        "url='/content/data_crab.csv'\n",
        "data= pd.read_csv(url)\n",
        "data = data[:100]\n",
        "x=data.drop(['sp','sex'],axis=True)   \n",
        "y=data['sex'].replace(['M','F'],['1','0'])\n",
        "x_train,x_test,y_train,y_test = train_test_split(x,y,test_size=0.3)\n",
        "model=Perceptron()\n",
        "model.fit(x_train,y_train)\n",
        "print('độ chính xác',model.score(x,y))\n",
        "x_test = [[10,10.8,11,19,23,7],[9,15,12.6,38.1,42,15.1],[15,21.3,16.7,38.6,44.5,17],[40,17.5,13.2,31.7,47.9,12]] \n",
        "y_test = model.predict(x_test)\n",
        "print(y_test)"
      ]
    },
    {
      "cell_type": "code",
      "source": [
        "import numpy as np\n",
        "from sklearn.linear_model import Perceptron\n",
        "from sklearn.model_selection import train_test_split\n",
        "import pandas as pd\n",
        "url='/content/iris.csv'\n",
        "data= pd.read_csv(url)\n",
        "data = data[:150]\n",
        "x=data.drop(['variety'],axis = True)\n",
        "y=data['variety'].replace(['Setosa','Versicolor','Virginica'],[1,0,0])\n",
        "x_train,x_test,y_train,y_test = train_test_split(x,y,test_size=0.3)\n",
        "model=Perceptron()\n",
        "model.fit(x_train,y_train)\n",
        "print('độ chính xác',model.score(x,y))\n",
        "x_test = [[6.9,3.2,5.2,2],[6.7,3.1,5.6,2.4],[6.5,3.7,1.5,2.3]]\n",
        "y_test = model.predict(x_test)\n",
        "print(y_test)"
      ],
      "metadata": {
        "colab": {
          "base_uri": "https://localhost:8080/"
        },
        "id": "7m-rs5M1EHTl",
        "outputId": "25fbcf3a-9be3-49ea-aebb-abf7d12316b4"
      },
      "execution_count": 3,
      "outputs": [
        {
          "output_type": "stream",
          "name": "stdout",
          "text": [
            "độ chính xác 1.0\n",
            "[0 0 1]\n"
          ]
        },
        {
          "output_type": "stream",
          "name": "stderr",
          "text": [
            "/usr/local/lib/python3.7/dist-packages/sklearn/base.py:451: UserWarning: X does not have valid feature names, but Perceptron was fitted with feature names\n",
            "  \"X does not have valid feature names, but\"\n"
          ]
        }
      ]
    }
  ]
}