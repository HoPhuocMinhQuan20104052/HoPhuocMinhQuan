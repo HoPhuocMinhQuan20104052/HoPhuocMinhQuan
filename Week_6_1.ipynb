{
  "nbformat": 4,
  "nbformat_minor": 0,
  "metadata": {
    "colab": {
      "provenance": [],
      "authorship_tag": "ABX9TyMIxwqWJF5JrQYQ9nZuyB00",
      "include_colab_link": true
    },
    "kernelspec": {
      "name": "python3",
      "display_name": "Python 3"
    },
    "language_info": {
      "name": "python"
    }
  },
  "cells": [
    {
      "cell_type": "markdown",
      "metadata": {
        "id": "view-in-github",
        "colab_type": "text"
      },
      "source": [
        "<a href=\"https://colab.research.google.com/github/HoPhuocMinhQuan20104052/HoPhuocMinhQuan/blob/main/Week_6_1.ipynb\" target=\"_parent\"><img src=\"https://colab.research.google.com/assets/colab-badge.svg\" alt=\"Open In Colab\"/></a>"
      ]
    },
    {
      "cell_type": "code",
      "source": [
        "from keras.datasets import mnist\n",
        "import matplotlib.pyplot as plt\n",
        "(train_images, train_labels),(test_images, test_labels) = mnist.load_data()\n",
        "print(train_images.shape,\n",
        "train_labels.shape,\n",
        "test_images.shape,\n",
        "test_labels.shape)\n",
        "plt.imshow(train_images[200])\n",
        "plt.show()\n",
        "print(train_labels[200])\n",
        "\n"
      ],
      "metadata": {
        "colab": {
          "base_uri": "https://localhost:8080/",
          "height": 300
        },
        "id": "HNrGeOul5apy",
        "outputId": "e15cefcc-2952-4235-bdba-81246cb82ac4"
      },
      "execution_count": null,
      "outputs": [
        {
          "output_type": "stream",
          "name": "stdout",
          "text": [
            "(60000, 28, 28) (60000,) (10000, 28, 28) (10000,)\n"
          ]
        },
        {
          "output_type": "display_data",
          "data": {
            "text/plain": [
              "<Figure size 432x288 with 1 Axes>"
            ],
            "image/png": "[encoded data removed]"
          },
          "metadata": {
            "needs_background": "light"
          }
        },
        {
          "output_type": "stream",
          "name": "stdout",
          "text": [
            "1\n"
          ]
        }
      ]
    },
    {
      "cell_type": "code",
      "source": [
        "from keras import models\n",
        "from keras import layers\n",
        "model=models.Sequential()\n",
        "model.add(layers.Dense(512,activation='relu',input_shape=(28*28,)))\n",
        "model.add(layers.Dense(10,activation='softmax'))\n",
        "model.summary()"
      ],
      "metadata": {
        "colab": {
          "base_uri": "https://localhost:8080/"
        },
        "id": "nW41pApTF_vo",
        "outputId": "bddd0d8a-e27e-44bc-dc77-1c5a2c653e6b"
      },
      "execution_count": null,
      "outputs": [
        {
          "output_type": "stream",
          "name": "stdout",
          "text": [
            "Model: \"sequential_7\"\n",
            "_________________________________________________________________\n",
            " Layer (type)                Output Shape              Param #   \n",
            "=================================================================\n",
            " dense_14 (Dense)            (None, 512)               401920    \n",
            "                                                                 \n",
            " dense_15 (Dense)            (None, 10)                5130      \n",
            "                                                                 \n",
            "=================================================================\n",
            "Total params: 407,050\n",
            "Trainable params: 407,050\n",
            "Non-trainable params: 0\n",
            "_________________________________________________________________\n"
          ]
        }
      ]
    },
    {
      "cell_type": "code",
      "source": [
        "from keras.datasets import mnist\n",
        "(train_images,train_labels),(test_images,test_labels)=mnist.load_data()\n",
        "train_images.shape\n",
        "train_labels.shape\n",
        "test_images.shape\n",
        "test_labels.shape\n",
        "train_images=train_images.reshape((60000,28*28))\n",
        "train_images=train_images.astype('float32')/255\n",
        "test_images=test_images.reshape((10000,28*28))\n",
        "test_images=train_images.astype('float32')/255\n",
        "from keras.utils import to_categorical\n",
        "train_labels=to_categorical(train_labels)\n",
        "test_labels=to_categorical(test_labels)\n",
        "#print(test_labels)\n"
      ],
      "metadata": {
        "id": "CWO7ByAh_9wg"
      },
      "execution_count": null,
      "outputs": []
    },
    {
      "cell_type": "code",
      "source": [
        "model.compile(optimizer=\"rmsprop\", loss = \"categorical_crossentropy\", metrics=[\"accuracy\"])\n",
        "model.fit(train_images, train_labels, epochs=100, batch_size=128)"
      ],
      "metadata": {
        "colab": {
          "base_uri": "https://localhost:8080/"
        },
        "id": "Tol9GHgACfh_",
        "outputId": "cb63b4f4-63ff-4acd-f80a-38868d1c29eb"
      },
      "execution_count": null,
      "outputs": [
        {
          "output_type": "stream",
          "name": "stdout",
          "text": [
            "Epoch 1/100\n",
            "469/469 [==============================] - 5s 10ms/step - loss: 0.2568 - accuracy: 0.9253\n",
            "Epoch 2/100\n",
            "469/469 [==============================] - 5s 10ms/step - loss: 0.1048 - accuracy: 0.9689\n",
            "Epoch 3/100\n",
            "469/469 [==============================] - 5s 10ms/step - loss: 0.0681 - accuracy: 0.9797\n",
            "Epoch 4/100\n",
            "469/469 [==============================] - 5s 10ms/step - loss: 0.0500 - accuracy: 0.9849\n",
            "Epoch 5/100\n",
            "469/469 [==============================] - 5s 10ms/step - loss: 0.0378 - accuracy: 0.9887\n",
            "Epoch 6/100\n",
            "469/469 [==============================] - 5s 10ms/step - loss: 0.0293 - accuracy: 0.9911\n",
            "Epoch 7/100\n",
            "469/469 [==============================] - 6s 12ms/step - loss: 0.0220 - accuracy: 0.9933\n",
            "Epoch 8/100\n",
            "469/469 [==============================] - 5s 10ms/step - loss: 0.0169 - accuracy: 0.9949\n",
            "Epoch 9/100\n",
            "469/469 [==============================] - 5s 10ms/step - loss: 0.0130 - accuracy: 0.9964\n",
            "Epoch 10/100\n",
            "469/469 [==============================] - 5s 10ms/step - loss: 0.0103 - accuracy: 0.9973\n",
            "Epoch 11/100\n",
            "469/469 [==============================] - 5s 10ms/step - loss: 0.0081 - accuracy: 0.9979\n",
            "Epoch 12/100\n",
            "469/469 [==============================] - 5s 10ms/step - loss: 0.0064 - accuracy: 0.9984\n",
            "Epoch 13/100\n",
            "469/469 [==============================] - 5s 10ms/step - loss: 0.0050 - accuracy: 0.9988\n",
            "Epoch 14/100\n",
            "469/469 [==============================] - 5s 10ms/step - loss: 0.0036 - accuracy: 0.9990\n",
            "Epoch 15/100\n",
            "469/469 [==============================] - 5s 10ms/step - loss: 0.0033 - accuracy: 0.9991\n",
            "Epoch 16/100\n",
            "469/469 [==============================] - 5s 10ms/step - loss: 0.0023 - accuracy: 0.9994\n",
            "Epoch 17/100\n",
            "469/469 [==============================] - 5s 10ms/step - loss: 0.0019 - accuracy: 0.9994\n",
            "Epoch 18/100\n",
            "469/469 [==============================] - 5s 10ms/step - loss: 0.0016 - accuracy: 0.9995\n",
            "Epoch 19/100\n",
            "469/469 [==============================] - 5s 10ms/step - loss: 0.0012 - accuracy: 0.9996\n",
            "Epoch 20/100\n",
            "469/469 [==============================] - 5s 10ms/step - loss: 8.6235e-04 - accuracy: 0.9997\n",
            "Epoch 21/100\n",
            "469/469 [==============================] - 5s 10ms/step - loss: 7.1183e-04 - accuracy: 0.9998\n",
            "Epoch 22/100\n",
            "469/469 [==============================] - 5s 10ms/step - loss: 6.7735e-04 - accuracy: 0.9998\n",
            "Epoch 23/100\n",
            "469/469 [==============================] - 5s 10ms/step - loss: 5.6834e-04 - accuracy: 0.9998\n",
            "Epoch 24/100\n",
            "469/469 [==============================] - 5s 10ms/step - loss: 4.6301e-04 - accuracy: 0.9999\n",
            "Epoch 25/100\n",
            "469/469 [==============================] - 5s 10ms/step - loss: 2.7207e-04 - accuracy: 1.0000\n",
            "Epoch 26/100\n",
            "469/469 [==============================] - 5s 10ms/step - loss: 2.4354e-04 - accuracy: 1.0000\n",
            "Epoch 27/100\n",
            "469/469 [==============================] - 5s 10ms/step - loss: 2.2698e-04 - accuracy: 0.9999\n",
            "Epoch 28/100\n",
            "469/469 [==============================] - 5s 10ms/step - loss: 1.8929e-04 - accuracy: 0.9999\n",
            "Epoch 29/100\n",
            "469/469 [==============================] - 5s 10ms/step - loss: 1.5839e-04 - accuracy: 0.9999\n",
            "Epoch 30/100\n",
            "469/469 [==============================] - 5s 10ms/step - loss: 1.6815e-04 - accuracy: 0.9999\n",
            "Epoch 31/100\n",
            "469/469 [==============================] - 5s 10ms/step - loss: 7.6662e-05 - accuracy: 1.0000\n",
            "Epoch 32/100\n",
            "469/469 [==============================] - 5s 10ms/step - loss: 7.6377e-05 - accuracy: 1.0000\n",
            "Epoch 33/100\n",
            "469/469 [==============================] - 5s 10ms/step - loss: 1.8841e-04 - accuracy: 1.0000\n",
            "Epoch 34/100\n",
            "469/469 [==============================] - 5s 10ms/step - loss: 8.6089e-05 - accuracy: 1.0000\n",
            "Epoch 35/100\n",
            "469/469 [==============================] - 5s 10ms/step - loss: 5.0990e-05 - accuracy: 1.0000\n",
            "Epoch 36/100\n",
            "469/469 [==============================] - 5s 10ms/step - loss: 1.4950e-05 - accuracy: 1.0000\n",
            "Epoch 37/100\n",
            "469/469 [==============================] - 5s 10ms/step - loss: 7.0636e-06 - accuracy: 1.0000\n",
            "Epoch 38/100\n",
            "469/469 [==============================] - 5s 10ms/step - loss: 9.7165e-05 - accuracy: 1.0000\n",
            "Epoch 39/100\n",
            "469/469 [==============================] - 5s 10ms/step - loss: 7.9106e-06 - accuracy: 1.0000\n",
            "Epoch 40/100\n",
            "469/469 [==============================] - 5s 10ms/step - loss: 1.3560e-06 - accuracy: 1.0000\n",
            "Epoch 41/100\n",
            "469/469 [==============================] - 5s 10ms/step - loss: 2.6604e-06 - accuracy: 1.0000\n",
            "Epoch 42/100\n",
            "469/469 [==============================] - 5s 10ms/step - loss: 3.8017e-07 - accuracy: 1.0000\n",
            "Epoch 43/100\n",
            "469/469 [==============================] - 5s 10ms/step - loss: 6.7152e-08 - accuracy: 1.0000\n",
            "Epoch 44/100\n",
            "469/469 [==============================] - 5s 10ms/step - loss: 3.2490e-08 - accuracy: 1.0000\n",
            "Epoch 45/100\n",
            "469/469 [==============================] - 6s 14ms/step - loss: 2.4362e-08 - accuracy: 1.0000\n",
            "Epoch 46/100\n",
            "469/469 [==============================] - 5s 10ms/step - loss: 2.1132e-08 - accuracy: 1.0000\n",
            "Epoch 47/100\n",
            "469/469 [==============================] - 5s 10ms/step - loss: 1.8624e-08 - accuracy: 1.0000\n",
            "Epoch 48/100\n",
            "469/469 [==============================] - 5s 10ms/step - loss: 1.7049e-08 - accuracy: 1.0000\n",
            "Epoch 49/100\n",
            "469/469 [==============================] - 5s 10ms/step - loss: 1.5795e-08 - accuracy: 1.0000\n",
            "Epoch 50/100\n",
            "469/469 [==============================] - 5s 10ms/step - loss: 1.4657e-08 - accuracy: 1.0000\n",
            "Epoch 51/100\n",
            "469/469 [==============================] - 5s 10ms/step - loss: 1.3872e-08 - accuracy: 1.0000\n",
            "Epoch 52/100\n",
            "469/469 [==============================] - 5s 10ms/step - loss: 1.3020e-08 - accuracy: 1.0000\n",
            "Epoch 53/100\n",
            "469/469 [==============================] - 6s 12ms/step - loss: 1.2432e-08 - accuracy: 1.0000\n",
            "Epoch 54/100\n",
            "469/469 [==============================] - 5s 10ms/step - loss: 1.1663e-08 - accuracy: 1.0000\n",
            "Epoch 55/100\n",
            "469/469 [==============================] - 6s 14ms/step - loss: 1.1182e-08 - accuracy: 1.0000\n",
            "Epoch 56/100\n",
            "469/469 [==============================] - 5s 10ms/step - loss: 1.0731e-08 - accuracy: 1.0000\n",
            "Epoch 57/100\n",
            "469/469 [==============================] - 5s 10ms/step - loss: 1.0324e-08 - accuracy: 1.0000\n",
            "Epoch 58/100\n",
            "469/469 [==============================] - 6s 12ms/step - loss: 9.9043e-09 - accuracy: 1.0000\n",
            "Epoch 59/100\n",
            "469/469 [==============================] - 6s 13ms/step - loss: 9.5606e-09 - accuracy: 1.0000\n",
            "Epoch 60/100\n",
            "469/469 [==============================] - 5s 10ms/step - loss: 9.2387e-09 - accuracy: 1.0000\n",
            "Epoch 61/100\n",
            "469/469 [==============================] - 7s 15ms/step - loss: 8.9626e-09 - accuracy: 1.0000\n",
            "Epoch 62/100\n",
            "469/469 [==============================] - 7s 15ms/step - loss: 8.6884e-09 - accuracy: 1.0000\n",
            "Epoch 63/100\n",
            "469/469 [==============================] - 8s 18ms/step - loss: 8.4639e-09 - accuracy: 1.0000\n",
            "Epoch 64/100\n",
            "469/469 [==============================] - 6s 14ms/step - loss: 8.1360e-09 - accuracy: 1.0000\n",
            "Epoch 65/100\n",
            "469/469 [==============================] - 9s 18ms/step - loss: 7.9691e-09 - accuracy: 1.0000\n",
            "Epoch 66/100\n",
            "469/469 [==============================] - 6s 14ms/step - loss: 7.7248e-09 - accuracy: 1.0000\n",
            "Epoch 67/100\n",
            "469/469 [==============================] - 6s 14ms/step - loss: 7.5360e-09 - accuracy: 1.0000\n",
            "Epoch 68/100\n",
            "469/469 [==============================] - 6s 12ms/step - loss: 7.3711e-09 - accuracy: 1.0000\n",
            "Epoch 69/100\n",
            "469/469 [==============================] - 8s 18ms/step - loss: 7.1983e-09 - accuracy: 1.0000\n",
            "Epoch 70/100\n",
            "469/469 [==============================] - 7s 14ms/step - loss: 7.0393e-09 - accuracy: 1.0000\n",
            "Epoch 71/100\n",
            "469/469 [==============================] - 6s 13ms/step - loss: 6.9122e-09 - accuracy: 1.0000\n",
            "Epoch 72/100\n",
            "469/469 [==============================] - 7s 15ms/step - loss: 6.7214e-09 - accuracy: 1.0000\n",
            "Epoch 73/100\n",
            "469/469 [==============================] - 6s 14ms/step - loss: 6.6121e-09 - accuracy: 1.0000\n",
            "Epoch 74/100\n",
            "469/469 [==============================] - 6s 13ms/step - loss: 6.5347e-09 - accuracy: 1.0000\n",
            "Epoch 75/100\n",
            "469/469 [==============================] - 5s 10ms/step - loss: 6.3558e-09 - accuracy: 1.0000\n",
            "Epoch 76/100\n",
            "469/469 [==============================] - 5s 10ms/step - loss: 6.2784e-09 - accuracy: 1.0000\n",
            "Epoch 77/100\n",
            "469/469 [==============================] - 5s 10ms/step - loss: 6.1711e-09 - accuracy: 1.0000\n",
            "Epoch 78/100\n",
            "469/469 [==============================] - 5s 10ms/step - loss: 6.0916e-09 - accuracy: 1.0000\n",
            "Epoch 79/100\n",
            "469/469 [==============================] - 5s 10ms/step - loss: 5.9545e-09 - accuracy: 1.0000\n",
            "Epoch 80/100\n",
            "469/469 [==============================] - 5s 10ms/step - loss: 5.8711e-09 - accuracy: 1.0000\n",
            "Epoch 81/100\n",
            "469/469 [==============================] - 5s 10ms/step - loss: 5.7677e-09 - accuracy: 1.0000\n",
            "Epoch 82/100\n",
            "469/469 [==============================] - 5s 11ms/step - loss: 5.6644e-09 - accuracy: 1.0000\n",
            "Epoch 83/100\n",
            "469/469 [==============================] - 6s 12ms/step - loss: 5.6008e-09 - accuracy: 1.0000\n",
            "Epoch 84/100\n",
            "469/469 [==============================] - 6s 12ms/step - loss: 5.6068e-09 - accuracy: 1.0000\n",
            "Epoch 85/100\n",
            "469/469 [==============================] - 5s 10ms/step - loss: 5.4797e-09 - accuracy: 1.0000\n",
            "Epoch 86/100\n",
            "469/469 [==============================] - 5s 10ms/step - loss: 5.3902e-09 - accuracy: 1.0000\n",
            "Epoch 87/100\n",
            "469/469 [==============================] - 5s 10ms/step - loss: 5.3664e-09 - accuracy: 1.0000\n",
            "Epoch 88/100\n",
            "469/469 [==============================] - 5s 10ms/step - loss: 5.2551e-09 - accuracy: 1.0000\n",
            "Epoch 89/100\n",
            "469/469 [==============================] - 6s 12ms/step - loss: 5.2234e-09 - accuracy: 1.0000\n",
            "Epoch 90/100\n",
            "469/469 [==============================] - 5s 10ms/step - loss: 5.1757e-09 - accuracy: 1.0000\n",
            "Epoch 91/100\n",
            "469/469 [==============================] - 5s 11ms/step - loss: 5.0922e-09 - accuracy: 1.0000\n",
            "Epoch 92/100\n",
            "469/469 [==============================] - 6s 12ms/step - loss: 5.0505e-09 - accuracy: 1.0000\n",
            "Epoch 93/100\n",
            "469/469 [==============================] - 5s 11ms/step - loss: 5.0306e-09 - accuracy: 1.0000\n",
            "Epoch 94/100\n",
            "469/469 [==============================] - 5s 11ms/step - loss: 4.9969e-09 - accuracy: 1.0000\n",
            "Epoch 95/100\n",
            "469/469 [==============================] - 5s 11ms/step - loss: 4.9869e-09 - accuracy: 1.0000\n",
            "Epoch 96/100\n",
            "469/469 [==============================] - 6s 13ms/step - loss: 4.9194e-09 - accuracy: 1.0000\n",
            "Epoch 97/100\n",
            "469/469 [==============================] - 5s 11ms/step - loss: 4.8717e-09 - accuracy: 1.0000\n",
            "Epoch 98/100\n",
            "469/469 [==============================] - 5s 11ms/step - loss: 4.8319e-09 - accuracy: 1.0000\n",
            "Epoch 99/100\n",
            "469/469 [==============================] - 5s 11ms/step - loss: 4.8518e-09 - accuracy: 1.0000\n",
            "Epoch 100/100\n",
            "469/469 [==============================] - 5s 11ms/step - loss: 4.7863e-09 - accuracy: 1.0000\n"
          ]
        },
        {
          "output_type": "execute_result",
          "data": {
            "text/plain": [
              "<keras.callbacks.History at 0x7f710d961f90>"
            ]
          },
          "metadata": {},
          "execution_count": 44
        }
      ]
    }
  ]
}